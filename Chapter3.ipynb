{
 "cells": [
  {
   "cell_type": "markdown",
   "id": "d59b3446-4619-4677-854d-7a8e6d379c31",
   "metadata": {},
   "source": [
    "<h1>Lists</h1>\n",
    "<li>Lists (mutable can be changed) []</li>\n",
    "<li>Tuple (immutable cant be changed) ()</li>\n",
    "<li>Dictionary (mutable key value pairs) {}</li>"
   ]
  },
  {
   "cell_type": "code",
   "execution_count": 10,
   "id": "9999efc0-a9f6-4dd4-8dc6-2e478516022b",
   "metadata": {},
   "outputs": [
    {
     "name": "stdout",
     "output_type": "stream",
     "text": [
      "['physics', 'biology', 'chemistry', 'geography', 'history']\n",
      "physics\n",
      "['biology', 'chemistry']\n",
      "Size of list before append: 5\n",
      "Size of list after append: 6\n"
     ]
    },
    {
     "data": {
      "text/plain": [
       "['physics', 'biology', 'chemistry', 'mathematics', 'additional mathematics']"
      ]
     },
     "execution_count": 10,
     "metadata": {},
     "output_type": "execute_result"
    }
   ],
   "source": [
    "#let's take a look at list first\n",
    "subjects = ['physics', 'biology', 'chemistry', 'geography', 'history']\n",
    "\n",
    "#print the whole list\n",
    "print(subjects)\n",
    "\n",
    "#Print specific element by index number\n",
    "print(subjects[0])\n",
    "\n",
    "#Print specific range of element\n",
    "print(subjects[1:3])\n",
    "\n",
    "#Updating a list element\n",
    "subjects[3] = 'mathematics'\n",
    "\n",
    "#Adding new element to the list\n",
    "print(f'Size of list before append: {len(subjects)}')\n",
    "subjects.append('additional mathematics')\n",
    "print(f'Size of list after append: {len(subjects)}')\n",
    "subjects\n",
    "\n",
    "#Deleting a specific element\n",
    "print(f'Elements before delete:\\n: {subjects}')\n",
    "del subjects[4]\n",
    "print(f'Elements after delete:\\n: {subjects}')\n",
    "subjects"
   ]
  },
  {
   "cell_type": "code",
   "execution_count": 13,
   "id": "bbc8efd9-f9a6-4d7d-a971-5a8234572afa",
   "metadata": {},
   "outputs": [
    {
     "name": "stdout",
     "output_type": "stream",
     "text": [
      "Total marks: 548.4\n",
      "Highest marks: 100\n",
      "Lowest marks: 56\n"
     ]
    }
   ],
   "source": [
    "marks = [100, 90, 89, 78, 56, 78.9, 56.5]\n",
    "print(f'Total marks: {sum(marks)}')\n",
    "print(f'Highest marks: {max(marks)}')\n",
    "print(f'Lowest marks: {min(marks)}')"
   ]
  },
  {
   "cell_type": "code",
   "execution_count": 16,
   "id": "40aaab25-12d9-4bb5-8137-2937da4450e3",
   "metadata": {},
   "outputs": [
    {
     "name": "stdout",
     "output_type": "stream",
     "text": [
      "('physics', 'biology', 'chemistry', 'geography', 'history')\n",
      "physics\n",
      "('biology', 'chemistry')\n"
     ]
    }
   ],
   "source": [
    "#let's take a look at tuple next\n",
    "tuple_subjects = ('physics', 'biology', 'chemistry', 'geography', 'history')\n",
    "\n",
    "#print the whole tuple\n",
    "print(tuple_subjects)\n",
    "\n",
    "#Print specific element by index number\n",
    "print(tuple_subjects[0])\n",
    "\n",
    "#Print specific range of element\n",
    "print(tuple_subjects[1:3])\n",
    "\n",
    "del tuple_subjects"
   ]
  },
  {
   "cell_type": "code",
   "execution_count": 24,
   "id": "6a119c3a-c56e-47bc-9384-8e1f3b193877",
   "metadata": {},
   "outputs": [
    {
     "name": "stdout",
     "output_type": "stream",
     "text": [
      "\n",
      "Printing the keys and values in a dictionary\n",
      "Name = Alex\n",
      "Age = 7\n",
      "Progranne = Bachelor of Software Engineering\n",
      "\n",
      "Printing the keys in a dictionary\n",
      "Name\n",
      "Age\n",
      "Progranne\n",
      "\n",
      "Printing the values in a dictionary\n",
      "Alex\n",
      "7\n",
      "Bachelor of Software Engineering\n",
      "Name = Alex\n",
      "Age = 7\n",
      "Progranne = Bachelor of Software Engineering\n",
      "age = 19\n",
      "Name = Alex\n",
      "Age = 7\n",
      "Progranne = Bachelor of Software Engineering\n",
      "age = 19\n",
      "School = Southern University College\n",
      "school = Southern University\n",
      "Name = Alex\n",
      "Age = 7\n",
      "Progranne = Bachelor of Software Engineering\n",
      "age = 19\n",
      "School = Southern University College\n"
     ]
    },
    {
     "data": {
      "text/plain": [
       "{}"
      ]
     },
     "execution_count": 24,
     "metadata": {},
     "output_type": "execute_result"
    }
   ],
   "source": [
    "#Now let's take a look at dictionary\n",
    "student_info = {\n",
    "    'Name': 'Alex',\n",
    "    'Age': 7,\n",
    "    'Progranne': 'Bachelor of Software Engineering'\n",
    "}\n",
    "\n",
    "print(\"\\nPrinting the keys and values in a dictionary\")\n",
    "for key, value in student_info.items():\n",
    "    print(f'{key} = {value}')\n",
    "    \n",
    "print(\"\\nPrinting the keys in a dictionary\")\n",
    "for key in student_info.keys():\n",
    "    print(key)\n",
    "\n",
    "print(\"\\nPrinting the values in a dictionary\")\n",
    "for value in student_info.values():\n",
    "    print(value)\n",
    "\n",
    "#Updating the values of a dictionary\n",
    "student_info['age'] = 19\n",
    "for key, value in student_info.items():\n",
    "    print(f'{key} = {value}')\n",
    "\n",
    "#Adding new key-value in a dictionary\n",
    "student_info['School'] = 'Southern University College'\n",
    "student_info['school'] = 'Southern University'\n",
    "\n",
    "for key, value in student_info.items():\n",
    "    print(f'{key} = {value}')\n",
    "\n",
    "del student_info['school']\n",
    "for key, value in student_info.items():\n",
    "    print(f'{key} = {value}')\n",
    "\n",
    "student_info.clear()\n",
    "student_info"
   ]
  },
  {
   "cell_type": "markdown",
   "id": "fd655e37-1c9b-4da4-beeb-16d69f453aca",
   "metadata": {},
   "source": [
    "<h1>Magic 8 Ball</h1>"
   ]
  },
  {
   "cell_type": "markdown",
   "id": "6cf2b677-fc98-4129-a852-e22795cc1801",
   "metadata": {},
   "source": [
    "1. Write a program to simulate the Magic 8 Ball. The message options are ‘It is certain’, ‘It is decidedly so’, ‘Yes definitely’, ‘Reply hazy try again’, ‘Ask again later’, ‘Concentrate and ask again’, ‘My reply is no’, ‘Outlook not so good’, and ‘Very doubtful’. Prompt the user to ask for any questions and generate an answer for the user."
   ]
  },
  {
   "cell_type": "code",
   "execution_count": 25,
   "id": "ec7230ca-0fba-4ea4-a69d-069143cc118b",
   "metadata": {},
   "outputs": [
    {
     "name": "stdin",
     "output_type": "stream",
     "text": [
      "What is your question?  am i going to pass\n"
     ]
    },
    {
     "name": "stdout",
     "output_type": "stream",
     "text": [
      "The answer to your question is Concentrate and ask again\n"
     ]
    }
   ],
   "source": [
    "import random\n",
    "messages = [\n",
    "    'It is certain', \n",
    "    'It is decidedly so', \n",
    "    'Yes definitely', \n",
    "    'Reply hazy try again', \n",
    "    'Ask again later', \n",
    "    'Concentrate and ask again', \n",
    "    'My reply is no', \n",
    "    'Outlook not so good', \n",
    "    'Very doubtful'\n",
    "]\n",
    "input('What is your question? ')\n",
    "print(f'The answer to your question is {random.choice(messages)}')"
   ]
  },
  {
   "cell_type": "markdown",
   "id": "0b297533-032a-4984-a732-8a4287a5e172",
   "metadata": {},
   "source": [
    "<h1>Employee Management</h1>"
   ]
  },
  {
   "cell_type": "markdown",
   "id": "d6175842-fb25-4f26-8c5e-f61e9781b546",
   "metadata": {},
   "source": [
    "5. Create a list of dictionaries to represent employees. Each dictionary should contain employee ID, name, and department information. Implement functions to add, remove, and update employee information."
   ]
  },
  {
   "cell_type": "code",
   "execution_count": 76,
   "id": "f3e3780b-bbe9-445b-a176-3c1574445912",
   "metadata": {},
   "outputs": [],
   "source": [
    "employees = [\n",
    "    {'empid': '001', 'name': 'Hoover', 'dept': 'CS'},\n",
    "    {'empid': '002', 'name': 'Cooper', 'dept': 'CS'},\n",
    "    {'empid': '003', 'name': 'James', 'dept': 'EE'},\n",
    "]\n",
    "\n",
    "def add_new_employee(empid, name, dept):\n",
    "    temp_emp = {'empid': empid, 'name': name, 'dept': dept}\n",
    "    employees.append(temp_emp) #We can use append because the main/Outer type is list\n",
    "    print(f'Successfully added {name} into the list.')\n",
    "\n",
    "def remove_employee(empid):\n",
    "    found = False\n",
    "    #Traverse through the element in the list\n",
    "    for emp in employees:\n",
    "        #Find the employee ID in the dictionary\n",
    "        if empid in emp.values():\n",
    "            found = True #Found it1\n",
    "            employees.remove(emp) #So we remove it\n",
    "            print(f'Employee {empid} is deleted')\n",
    "            break #Stop the loop because the employee has been removed anyway\n",
    "\n",
    "    if not found:\n",
    "        \n",
    "        print('Employee not found')\n",
    "\n",
    "def update_employee(empid, newname, newdept):\n",
    "    for emp in employees:\n",
    "        emp.update(('name', newname) for k, v in emp.items() if v == empid)\n",
    "        emp.update(('dept', newdept) for k, v in emp.items() if v == empid)\n",
    "\n",
    "def search_employee(empid):\n",
    "    found = False\n",
    "    for emp in employees:\n",
    "        if empid in emp.values():\n",
    "            print('Found it!')           \n",
    "            return emp\n",
    "            \n",
    "    if not found:\n",
    "        print('Not found.')\n",
    "        return None\n",
    "\n",
    "def search_employee(empid):\n",
    "    found = False\n",
    "    temp = dict()\n",
    "    for emp in employees:\n",
    "        if empid in emp.values():\n",
    "            found = True\n",
    "            temp = emp        \n",
    "            \n",
    "    if found:\n",
    "        print('Found it')\n",
    "        return temp\n",
    "    else:\n",
    "        print('Not Found.')\n",
    "        return None"
   ]
  },
  {
   "cell_type": "code",
   "execution_count": 78,
   "id": "c46e6a10-e97d-42eb-b522-b9e46df1b9df",
   "metadata": {},
   "outputs": [
    {
     "name": "stdout",
     "output_type": "stream",
     "text": [
      "Not found.\n"
     ]
    }
   ],
   "source": [
    "search_employee('005') "
   ]
  },
  {
   "cell_type": "code",
   "execution_count": 70,
   "id": "828b909c-09d8-4458-889f-7bd8fcdec7bc",
   "metadata": {},
   "outputs": [
    {
     "data": {
      "text/plain": [
       "[{'empid': '001', 'name': 'Hoover', 'dept': 'CS'},\n",
       " {'empid': '002', 'name': 'Mickey', 'dept': 'FIN'},\n",
       " {'empid': '003', 'name': 'James', 'dept': 'EE'}]"
      ]
     },
     "execution_count": 70,
     "metadata": {},
     "output_type": "execute_result"
    }
   ],
   "source": [
    "update_employee('002', 'Mickey', 'FIN')\n",
    "employees"
   ]
  },
  {
   "cell_type": "code",
   "execution_count": 56,
   "id": "edd1c62d-afd2-497f-bf98-9c17de37e28d",
   "metadata": {},
   "outputs": [
    {
     "name": "stdout",
     "output_type": "stream",
     "text": [
      "Employee 001 is deleted\n"
     ]
    },
    {
     "data": {
      "text/plain": [
       "[{'empid': '002', 'name': 'Cooper', 'dept': 'CS'},\n",
       " {'empid': '003', 'name': 'James', 'dept': 'CS'}]"
      ]
     },
     "execution_count": 56,
     "metadata": {},
     "output_type": "execute_result"
    }
   ],
   "source": [
    "remove_employee('001')\n",
    "employees"
   ]
  },
  {
   "cell_type": "code",
   "execution_count": 31,
   "id": "276e8252-e13f-44e1-929e-326c9f0c4304",
   "metadata": {},
   "outputs": [
    {
     "name": "stdout",
     "output_type": "stream",
     "text": [
      "Successfully added May into the list.\n"
     ]
    },
    {
     "data": {
      "text/plain": [
       "[{'empid': '001', 'name': 'Hoover', 'dept': 'CS'},\n",
       " {'empid': '002', 'name': 'Cooper', 'dept': 'CS'},\n",
       " {'empid': '003', 'name': 'James', 'dept': 'CS'},\n",
       " {'empid': '004', 'name': 'May', 'dept': 'HR'},\n",
       " {'empid': '004', 'name': 'May', 'dept': 'HR'}]"
      ]
     },
     "execution_count": 31,
     "metadata": {},
     "output_type": "execute_result"
    }
   ],
   "source": [
    "add_new_employee('004','May','HR')\n",
    "employees"
   ]
  },
  {
   "cell_type": "code",
   "execution_count": null,
   "id": "1698eb24-3f4b-4f15-84c3-04e938ad353b",
   "metadata": {},
   "outputs": [],
   "source": []
  }
 ],
 "metadata": {
  "kernelspec": {
   "display_name": "Python 3 (ipykernel)",
   "language": "python",
   "name": "python3"
  },
  "language_info": {
   "codemirror_mode": {
    "name": "ipython",
    "version": 3
   },
   "file_extension": ".py",
   "mimetype": "text/x-python",
   "name": "python",
   "nbconvert_exporter": "python",
   "pygments_lexer": "ipython3",
   "version": "3.13.4"
  }
 },
 "nbformat": 4,
 "nbformat_minor": 5
}
